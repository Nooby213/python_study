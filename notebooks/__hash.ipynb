{
 "cells": [
  {
   "cell_type": "markdown",
   "id": "078747bf-272c-407a-abd5-766f3f041848",
   "metadata": {},
   "source": [
    "# 해시 테이블 Hashtable\n",
    "해시 함수를 사용하여 변환한 값을 색인(index)으로 삼아 키(key)와 데이터(value)를 저장하는 자료구조\n",
    "> 데이터를 효율적으로 저장하고 **검색**하기 위해 사용\n",
    "\n",
    "## 해시 테이블 원리\n",
    "- 키를 해시 함수를 통해 해시 값으로 변환하고, 이 해시 값을 인덱스로 사용하여 데이터를 저장하거나 검색\n",
    "- 데이터 검색이 매우 빠르게 이루어짐\n",
    "\n",
    "### 해시 Hash  16진수 난수로 변환\n",
    "- 임의의 크기를 가진 데이터를 고정된 크기의 고유한 값으로 변환하는 것\n",
    "- 이렇게 생성된 고유한 값은 주로 해당 데이터를 식별하는데 사용될 수 있음\n",
    "  - 일종의 '지문'과 같은 역할\n",
    "  - 데이터를 고유하게 식별\n",
    "- 파이썬에서는 해시 함수를 사용하여 데이터를 해시 값으로 변환하며, 이 해시 값은 정수로 표현됨\n",
    "\n",
    "### 해시 함수 Hash Function\n",
    "- 임의의 길이의 데이터를 입력받아 고정된 길이의 데이터(해시 값)를 출력하는 함수\n",
    "- 주로 해시 테이블 자료구조에 사용되며, 매우 빠른 데이터 검색을 위한 컴퓨터 소프트웨어에서 유용하게 사용\n",
    "\n",
    "### set의 요소 & dictionary의 키와 해시테이블 관계\n",
    "- 파이썬에서 세트의 요소와 딕셔너리의 키는 해시 테이블을 이용하여 중복되지 않는 고유한 값을 저장함\n",
    "- 세트 내의 각 요소는 해시 함수를 통해 해시 값으로 변환되고, 이 해시 값을 기반으로 해시 테이블에 저장됨\n",
    "- 마찬가지로 딕셔너리의 키는 고유해야하므로, 키를 해시 함수를 통해 해시 값으로 변환하여 해시 테이블에 저장\n",
    "    - 따라서 딕셔너리의 키는 매우 빠른 탐색 속도를 제공하며, 중복된 값을 허용하지 않음\n",
    "\n",
    "### 파이썬에서의 해시 함수 - 정수\n",
    "- 같은 정수는 항상 같은 해시 값을 가짐\n",
    "- 해시 테이블에 정수를 저장할 때 효율적인 방법\n",
    "- 예를 들어, hash(1)과 hash(2)는 항상 서로 다른 해시 값을 갖지만, hash(1)은 항상 동일한 해시 값을 갖게 됨\n",
    "\n",
    "### 파이썬에서의 해시 함수 - 문자열\n",
    "-  문자열은 가변적인 길이를 갖고 있고, 문자열에 포함된 각 문자들의 유니코드 코드 포인트 등을 기반으로 해시 값을 계산\n",
    "-  이로 인해 문자열의 해시 값은 실행 시마다 다르게 계산됨\n",
    "\n",
    "### set의 pop 메서드의 결과와 해시 테이블의 관계\n",
    "- pop메서더는 set에서 임의의 요소를 제거하고 반환\n",
    "- 실행할 때마다 다른 요소를 얻는다는 의미에서 무작위가 아니라 **임의**라는 의미에서 **무작위**\n",
    "  - By \"arbitary\" the docs don't mean \"random\"\n",
    "> 해시 테이블에 나타나는 순서대로 반환하는 것\n",
    "\n",
    "#### Hashable\n",
    "- hash() 함수의 인자로 전달해서 결과를 반환 받을 수 있는 객체를 hashable이라 함\n",
    "- 대부분의 불변형 데이터 타입은 hashable (불변안에 가변데이터 있다면 안될 수도 있다.)\n",
    "- 단, tuple의 경우 불변형이지만 해시 불가능한 객체를 참조 할 때는 tuple 자체도 해시 불가능해지는 경우가 있음\n",
    "\n",
    "#### hashable과 불변성 간의 관계\n",
    "- 해시 테이블의 키는 불변해야 함\n",
    "  - 객체가 생성된 후에 그 값을 변경할 수 없어야 함\n",
    "- 불변 객체는 해시 값이 변하지 않으므로 동일한 값에 대해 일관된 해시 값을 유지할 수 있음\n",
    "- 단, \"hash 가능하다 !=불변하다\"\n",
    "\n",
    "#### 가변형 객체가 hashable 하지 않은 이유\n",
    "- 값이 변경될 수 있기 때문에 동일한 객체에 대한 해시 값이 변경될 가능성이 있음(해시 테이블의 무결성 유지 불가)\n",
    "- 가변형 객체가 변경되면 해시 값이 변경되기 떄문에, 같은 객체에 대한 서로 다른 해시 값이 반환될 수 있음(해시 값의 일관성 유지 불가)\n",
    "\n",
    "#### hashable 객체가 필요한 이유\n",
    "1. 해시 테이블 기반 자료 구조 사용\n",
    " - set와 dict의 키\n",
    " - 중복 값 방지\n",
    " - 빠른 검색과 조회\n",
    "2. 불변성을 통한 일관된 해시 값\n",
    "3. 안정성과 예측 가능성 유지"
   ]
  },
  {
   "cell_type": "markdown",
   "id": "3848df27-03a5-4dea-a236-ab01d1d423c2",
   "metadata": {},
   "source": [
    "#### Literal > 표기가능한 값\n",
    "literal > hashable : X 안에 변경가능한 요소가 있으면 안됨\n",
    "#### immutable 불변형\n",
    "immutable > hashable : X 안에 변경가능한 요소가 있으면 안됨 (예, 튜플 안에 리스트)"
   ]
  },
  {
   "cell_type": "code",
   "execution_count": null,
   "id": "477906b1-8614-47c1-9b06-cf46bcb3ff5d",
   "metadata": {},
   "outputs": [],
   "source": [
    "a_tuple = ([1, 2], 3)\n",
    "print(type(a_tuple))\n",
    "b = {a_tuple : 'b'}"
   ]
  },
  {
   "cell_type": "code",
   "execution_count": null,
   "id": "07352b0b-0c9d-4452-9348-4653c106ab8b",
   "metadata": {},
   "outputs": [],
   "source": [
    "# 정수 값 자체가 곧 해시 값\n",
    "# 문자열은 해시 테이블이 실행 될 때마다 달라진다.\n",
    "my_set = {3, 2, 1, 9, 100, 4, 87, 39, 10, 52}  # 해시 테이블에 나열된 순서\n",
    "# pop 은 해시테이블의 순서대로 나오는 것\n",
    "print(my_set.pop())\n",
    "print(my_set.pop())\n",
    "print(my_set.pop())\n",
    "print(my_set.pop())\n",
    "print(my_set.pop())\n",
    "print(my_set.pop())\n",
    "print(my_set.pop())\n",
    "print(my_set.pop())\n",
    "print(my_set.pop())\n",
    "print(my_set.pop())\n",
    "print(my_set)"
   ]
  },
  {
   "cell_type": "code",
   "execution_count": 11,
   "id": "5ce4226d-14b5-440a-940d-67d44ff1844f",
   "metadata": {},
   "outputs": [
    {
     "name": "stdout",
     "output_type": "stream",
     "text": [
      "b\n",
      "a\n",
      "f\n",
      "d\n",
      "e\n",
      "c\n",
      "1\n",
      "2214151\n",
      "-1181952938763934924\n",
      "-1181952938763934924\n",
      "\n"
     ]
    }
   ],
   "source": [
    "my_set = {'a', 'b', 'c', 'd', 'e', 'f'}\n",
    "print(my_set.pop())\n",
    "print(my_set.pop())\n",
    "print(my_set.pop())\n",
    "print(my_set.pop())\n",
    "print(my_set.pop())\n",
    "print(my_set.pop())\n",
    "\n",
    "print(hash(1))\n",
    "print(hash(2214151))\n",
    "print(hash('a')) # 계속 바뀜\n",
    "print(hash('a'))\n",
    "print()"
   ]
  },
  {
   "cell_type": "markdown",
   "id": "13ff25d0-7aa6-41c6-8567-28b6195b4a52",
   "metadata": {},
   "source": [
    "```python\n",
    "list = [{'john' : '421-1234'},\n",
    "    {'lisa' : '412-6346'},\n",
    "    {'sander' : ' 1534-52'}\n",
    "       ]\n",
    "dict = {\n",
    "    'john' : '421-1234',\n",
    "    'lisa' : '412-6346',\n",
    "    'sander' : ' 1534-52'\n",
    "}\n",
    "print(list)\n",
    "print(dict.get('lisa'))\n",
    "```"
   ]
  }
 ],
 "metadata": {
  "kernelspec": {
   "display_name": "Python 3 (ipykernel)",
   "language": "python",
   "name": "python3"
  },
  "language_info": {
   "codemirror_mode": {
    "name": "ipython",
    "version": 3
   },
   "file_extension": ".py",
   "mimetype": "text/x-python",
   "name": "python",
   "nbconvert_exporter": "python",
   "pygments_lexer": "ipython3",
   "version": "3.9.13"
  }
 },
 "nbformat": 4,
 "nbformat_minor": 5
}
